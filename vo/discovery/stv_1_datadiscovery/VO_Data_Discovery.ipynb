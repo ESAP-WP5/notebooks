{
 "cells": [
  {
   "cell_type": "markdown",
   "metadata": {},
   "source": [
    "<h1>Workflow for discovering, querying and visualizing astronomy data in the VO</h1>"
   ]
  },
  {
   "cell_type": "code",
   "execution_count": null,
   "metadata": {},
   "outputs": [],
   "source": [
    "import pyvo\n",
    "from pyvo.registry import search as regsearch"
   ]
  },
  {
   "cell_type": "markdown",
   "metadata": {},
   "source": [
    "# Data Discovery (VO)"
   ]
  },
  {
   "cell_type": "markdown",
   "metadata": {},
   "source": [
    "## Find all TAP Services with 'quasars'"
   ]
  },
  {
   "cell_type": "code",
   "execution_count": null,
   "metadata": {},
   "outputs": [],
   "source": [
    "services = regsearch(keywords=['quasar'], servicetype='tap')\n",
    "print (services)"
   ]
  },
  {
   "cell_type": "markdown",
   "metadata": {},
   "source": [
    "## Find all TAP Services with keyword \"ukidss\""
   ]
  },
  {
   "cell_type": "code",
   "execution_count": null,
   "metadata": {},
   "outputs": [],
   "source": [
    "services = regsearch(keywords=['ukidss'], servicetype='tap')\n",
    "print (services)"
   ]
  },
  {
   "cell_type": "markdown",
   "metadata": {},
   "source": [
    "## Get Specific TAP Resource form list"
   ]
  },
  {
   "cell_type": "code",
   "execution_count": null,
   "metadata": {},
   "outputs": [],
   "source": [
    "ivoid=b'ivo://wfau.roe.ac.uk/wsa-tap'\n",
    "matching_row_indices = [i for i, val in enumerate(services[\"ivoid\"]==ivoid) if val]\n",
    "first_row_index = matching_row_indices[0] if len(matching_row_indices) > 0 else None\n",
    "if (first_row_index==None):\n",
    "    print (\"No Matching services\")\n",
    "else:\n",
    "    record = services.getrecord(first_row_index)\n",
    "    tap_url = record[\"access_url\"].decode('UTF-8')\n",
    "    print(\"TAP URL: {}\".format(tap_url))"
   ]
  },
  {
   "cell_type": "code",
   "execution_count": null,
   "metadata": {},
   "outputs": [],
   "source": []
  },
  {
   "cell_type": "code",
   "execution_count": null,
   "metadata": {},
   "outputs": [],
   "source": []
  }
 ],
 "metadata": {
  "kernelspec": {
   "display_name": "Python 3",
   "language": "python",
   "name": "python3"
  },
  "language_info": {
   "codemirror_mode": {
    "name": "ipython",
    "version": 3
   },
   "file_extension": ".py",
   "mimetype": "text/x-python",
   "name": "python",
   "nbconvert_exporter": "python",
   "pygments_lexer": "ipython3",
   "version": "3.6.9"
  }
 },
 "nbformat": 4,
 "nbformat_minor": 2
}
